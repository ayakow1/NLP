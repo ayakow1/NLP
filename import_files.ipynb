{
 "cells": [
  {
   "cell_type": "code",
   "execution_count": 1,
   "metadata": {},
   "outputs": [],
   "source": [
    "import pathlib\n",
    "import pandas as pd\n",
    "import MeCab\n",
    "import sqlite3"
   ]
  },
  {
   "cell_type": "code",
   "execution_count": 2,
   "metadata": {},
   "outputs": [],
   "source": [
    "# https://github.com/neologd/mecab-ipadic-neologd/wiki/Regexp\n",
    "# encoding: utf8\n",
    "from __future__ import unicode_literals\n",
    "import re\n",
    "import unicodedata\n",
    "\n",
    "def remove_speaker(s):\n",
    "    sep = \" \"\n",
    "    s1 = s.split(sep)[0]\n",
    "    s2 = sep.join(s.split(sep)[1:])\n",
    "    if \"委員長\" in s1 or \"議長\" in s1:\n",
    "        return \"\"\n",
    "    return s2\n",
    "\n",
    "def unicode_normalize(cls, s):\n",
    "    pt = re.compile('([{}]+)'.format(cls))\n",
    "\n",
    "    def norm(c):\n",
    "        return unicodedata.normalize('NFKC', c) if pt.match(c) else c\n",
    "\n",
    "    s = ''.join(norm(x) for x in re.split(pt, s))\n",
    "    s = re.sub('－', '-', s)\n",
    "    return s\n",
    "\n",
    "def remove_extra_spaces(s):\n",
    "    s = re.sub('[ 　]+', ' ', s)\n",
    "    blocks = ''.join(('\\u4E00-\\u9FFF',  # CJK UNIFIED IDEOGRAPHS\n",
    "                      '\\u3040-\\u309F',  # HIRAGANA\n",
    "                      '\\u30A0-\\u30FF',  # KATAKANA\n",
    "                      '\\u3000-\\u303F',  # CJK SYMBOLS AND PUNCTUATION\n",
    "                      '\\uFF00-\\uFFEF'   # HALFWIDTH AND FULLWIDTH FORMS\n",
    "                      ))\n",
    "    basic_latin = '\\u0000-\\u007F'\n",
    "\n",
    "    def remove_space_between(cls1, cls2, s):\n",
    "        p = re.compile('([{}]) ([{}])'.format(cls1, cls2))\n",
    "        while p.search(s):\n",
    "            s = p.sub(r'\\1\\2', s)\n",
    "        return s\n",
    "\n",
    "    s = remove_space_between(blocks, blocks, s)\n",
    "    s = remove_space_between(blocks, basic_latin, s)\n",
    "    s = remove_space_between(basic_latin, blocks, s)\n",
    "    return s\n",
    "\n",
    "def normalize_neologd(s):\n",
    "    s = remove_speaker(s)\n",
    "    s = s.strip()\n",
    "    s = unicode_normalize('０-９Ａ-Ｚａ-ｚ｡-ﾟ', s)\n",
    "\n",
    "    def maketrans(f, t):\n",
    "        return {ord(x): ord(y) for x, y in zip(f, t)}\n",
    "\n",
    "    s = re.sub('[˗֊‐‑‒–⁃⁻₋−]+', '-', s)  # normalize hyphens\n",
    "    s = re.sub('[﹣－ｰ—―─━ー]+', 'ー', s)  # normalize choonpus\n",
    "    s = re.sub('[~∼∾〜〰～]', '', s)  # remove tildes\n",
    "    s = s.translate(\n",
    "        maketrans('!\"#$%&\\'()*+,-./:;<=>?@[¥]^_`{|}~｡､･｢｣',\n",
    "              '！”＃＄％＆’（）＊＋，－．／：；＜＝＞？＠［￥］＾＿｀｛｜｝〜。、・「」'))\n",
    "\n",
    "    s = remove_extra_spaces(s)\n",
    "    s = unicode_normalize('！”＃＄％＆’（）＊＋，－．／：；＜＞？＠［￥］＾＿｀｛｜｝〜', s)  # keep ＝,・,「,」\n",
    "    s = re.sub('[’]', '\\'', s)\n",
    "    s = re.sub('[”]', '\"', s)\n",
    "    return s"
   ]
  },
  {
   "cell_type": "code",
   "execution_count": 3,
   "metadata": {},
   "outputs": [],
   "source": [
    "def wakati(df, stop_words, speakers):\n",
    "    text = df[\"発言内容\"].apply(normalize_neologd)\n",
    "    mecab = MeCab.Tagger('-d /Users/ayakowatanabe/opt/anaconda3/lib/mecab/dic/mecab-ipadic-neologd')\n",
    "    mecab_text = [mecab.parse(t).strip() for t in text]\n",
    "\n",
    "    all = []\n",
    "    for line in mecab_text:\n",
    "        morphemes = []\n",
    "        \n",
    "        cols = line.split('\\n')\n",
    "        for col in cols:\n",
    "            c = col.split('\\t')\n",
    "            if(len(c) < 2):\n",
    "                continue\n",
    "            res_cols = c[1].split(',')\n",
    "\n",
    "            morpheme = {\n",
    "                'surface': c[0],\n",
    "                'pos': res_cols[0],\n",
    "                'pos1': res_cols[1],\n",
    "                'pos2' : res_cols[2],\n",
    "                'base': res_cols[6]\n",
    "            }\n",
    "            morphemes.append(morpheme)\n",
    "        all.append(morphemes)\n",
    "    # https://qiita.com/8_hisakichi_8/items/d6894803d2ebabf3d33b\n",
    "    word_lst = []\n",
    "    for line in all:\n",
    "        each_row = []\n",
    "        for morphemes in line:\n",
    "            if morphemes['pos'] == '名詞':\n",
    "                if not morphemes['surface'] in stop_words and not morphemes['surface'] in speakers and not any([morphemes[\"pos1\"] in [\"非自立\",\"代名詞\",\"数\",\"副詞可能\",\"接尾\"]]) and morphemes[\"pos2\"] != \"人名\":\n",
    "                    each_row.append(morphemes['surface'])\n",
    "        s = ' '.join(each_row)\n",
    "        word_lst.append(s)\n",
    "    return word_lst"
   ]
  },
  {
   "cell_type": "code",
   "execution_count": 4,
   "metadata": {},
   "outputs": [],
   "source": [
    "#  https://aidemy.net/magazine/688/\n",
    "def sloth():\n",
    "    import urllib3\n",
    "    from bs4 import BeautifulSoup\n",
    "\n",
    "    slothlib_path = 'http://svn.sourceforge.jp/svnroot/slothlib/CSharp/Version1/SlothLib/NLP/Filter/StopWord/word/Japanese.txt'\n",
    "    http = urllib3.PoolManager()\n",
    "    #↑urlib3系のおまじない\n",
    "    slothlib_file =http.request('GET',slothlib_path)\n",
    "    soup=BeautifulSoup(slothlib_file.data,'lxml')\n",
    "    soup=str(soup).split()#soupは文字列じゃないので注意\n",
    "    return soup"
   ]
  },
  {
   "cell_type": "code",
   "execution_count": 5,
   "metadata": {},
   "outputs": [],
   "source": [
    "def insert_sql(df):\n",
    "    conn = sqlite3.connect('speech.db') \n",
    "    c = conn.cursor()\n",
    "    df.to_sql('speech', con=conn, if_exists='append', index=None)"
   ]
  },
  {
   "cell_type": "code",
   "execution_count": 6,
   "metadata": {},
   "outputs": [],
   "source": [
    "STOPWORDS = sloth()"
   ]
  },
  {
   "cell_type": "code",
   "execution_count": 11,
   "metadata": {},
   "outputs": [
    {
     "name": "stderr",
     "output_type": "stream",
     "text": [
      "/var/folders/f4/d26fc2lx7y5d0rs_6sbh_b2h0000gn/T/ipykernel_54688/1489054365.py:8: FutureWarning: The default dtype for empty Series will be 'object' instead of 'float64' in a future version. Specify a dtype explicitly to silence this warning.\n",
      "  df[\"発言内容\"] = pd.Series(word_lst)\n",
      "/var/folders/f4/d26fc2lx7y5d0rs_6sbh_b2h0000gn/T/ipykernel_54688/1489054365.py:8: FutureWarning: The default dtype for empty Series will be 'object' instead of 'float64' in a future version. Specify a dtype explicitly to silence this warning.\n",
      "  df[\"発言内容\"] = pd.Series(word_lst)\n"
     ]
    }
   ],
   "source": [
    "for path in range(2002, 2023):\n",
    "    csv_path = pathlib.Path(str(path))\n",
    "    file_lst = sorted([str(path) for path in csv_path.glob('*.csv')])\n",
    "    for file in file_lst:\n",
    "        df = pd.read_csv(file, encoding= 'utf-8')\n",
    "        speakers = [speaker for speaker in df[\"発言者名\"]]\n",
    "        word_lst = wakati(df, STOPWORDS, speakers)\n",
    "        df[\"発言内容\"] = pd.Series(word_lst)\n",
    "        df = df[df[\"発言者肩書き\"].isnull()]\n",
    "        df = df[df[\"発言者名\"] != \"会議録情報\"]\n",
    "        df = df[df[\"発言内容\"] != '']\n",
    "        df = df[[\"発言ID\", \"院名\", \"会議名\", \"号数\", \"日付\", \"発言者名\", \"発言者所属会派\",\"発言内容\"]]\n",
    "        df = df.rename(columns={\"発言ID\": \"id\", \"院名\": \"house\", \"会議名\": \"committee\", \"号数\": \"vol\", \"日付\": \"speech_date\", \\\n",
    "            \"発言者名\": \"speaker\", \"発言者所属会派\": \"party\", \"発言内容\": \"speech\"})\n",
    "        insert_sql(df)"
   ]
  }
 ],
 "metadata": {
  "interpreter": {
   "hash": "9d272364d79b62684f606616d6bd0931b0e79fea14278e158a233ed96157505c"
  },
  "kernelspec": {
   "display_name": "Python 3.8.8 ('base')",
   "language": "python",
   "name": "python3"
  },
  "language_info": {
   "codemirror_mode": {
    "name": "ipython",
    "version": 3
   },
   "file_extension": ".py",
   "mimetype": "text/x-python",
   "name": "python",
   "nbconvert_exporter": "python",
   "pygments_lexer": "ipython3",
   "version": "3.9.12"
  },
  "orig_nbformat": 4
 },
 "nbformat": 4,
 "nbformat_minor": 2
}
